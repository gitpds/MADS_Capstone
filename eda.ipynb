{
 "cells": [
  {
   "cell_type": "markdown",
   "id": "7291530e",
   "metadata": {},
   "source": [
    "# Relationship Between Home Purchase Sentiment Index on Housing Prices?\n",
    "\n",
    "## Rate Hike Rangers (Group 10)"
   ]
  },
  {
   "cell_type": "code",
   "execution_count": 1,
   "id": "8d788d17",
   "metadata": {},
   "outputs": [
    {
     "data": {
      "text/plain": [
       "True"
      ]
     },
     "execution_count": 1,
     "metadata": {},
     "output_type": "execute_result"
    }
   ],
   "source": [
    "# Import the necessary libraries\n",
    "import os\n",
    "from dotenv import load_dotenv\n",
    "import pandas as pd\n",
    "import requests\n",
    "from datetime import datetime\n",
    "\n",
    "\n",
    "# Load environment variables from .env file\n",
    "load_dotenv()"
   ]
  },
  {
   "cell_type": "markdown",
   "id": "51975b1b",
   "metadata": {},
   "source": [
    "## FRED Data\n",
    "\n"
   ]
  },
  {
   "cell_type": "code",
   "execution_count": 2,
   "id": "lqq1mscpmn",
   "metadata": {},
   "outputs": [],
   "source": [
    "# FRED API key\n",
    "FRED_API_KEY = os.getenv('FRED_API_KEY')\n"
   ]
  },
  {
   "cell_type": "code",
   "execution_count": 3,
   "id": "86969883",
   "metadata": {},
   "outputs": [],
   "source": [
    "def fetch_fred_data(series_id, start_date=None, end_date=None):\n",
    "    \"\"\"\n",
    "    Fetch data from FRED API\n",
    "    \n",
    "    Parameters:\n",
    "    series_id (str): FRED series identifier\n",
    "    start_date (str): Start date in 'YYYY-MM-DD' format (optional)\n",
    "    end_date (str): End date in 'YYYY-MM-DD' format (optional)\n",
    "    \n",
    "    Returns:\n",
    "    pandas.DataFrame: DataFrame with date and value columns\n",
    "    \"\"\"\n",
    "    \n",
    "    base_url = \"https://api.stlouisfed.org/fred/series/observations\"\n",
    "    \n",
    "    params = {\n",
    "        'series_id': series_id,\n",
    "        'api_key': FRED_API_KEY,\n",
    "        'file_type': 'json'\n",
    "    }\n",
    "    \n",
    "    # Add date filters if provided\n",
    "    if start_date:\n",
    "        params['observation_start'] = start_date\n",
    "    if end_date:\n",
    "        params['observation_end'] = end_date\n",
    "    \n",
    "    # try:\n",
    "    response = requests.get(base_url, params=params)\n",
    "    response.raise_for_status()  # Raises an HTTPError for bad responses\n",
    "    \n",
    "    data = response.json()\n",
    "    observations = data['observations']\n",
    "    \n",
    "    # Convert to DataFrame\n",
    "    df = pd.DataFrame(observations)\n",
    "    \n",
    "    # Clean up the data\n",
    "    df['date'] = pd.to_datetime(df['date'])\n",
    "    df['value'] = pd.to_numeric(df['value'], errors='coerce')\n",
    "    \n",
    "    # Remove any rows where value is '.' (FRED's missing data indicator)\n",
    "    df = df[df['value'].notna()]\n",
    "    \n",
    "    # Keep only date and value columns\n",
    "    df = df[['date', 'value']].reset_index(drop=True)\n",
    "    \n",
    "    print(f\"Successfully fetched {len(df)} observations for {series_id}\")\n",
    "    return df"
   ]
  },
  {
   "cell_type": "code",
   "execution_count": 4,
   "id": "ee2cf255",
   "metadata": {},
   "outputs": [
    {
     "name": "stdout",
     "output_type": "stream",
     "text": [
      "Successfully fetched 661 observations for UMCSENT\n",
      "\n",
      "UMCSENT Data Range: 1952-11-01 00:00:00 to 2025-05-01 00:00:00\n",
      "Latest UMCSENT Value: 52.2\n",
      "Total UMCSENT Observations: 661\n",
      "        date  value\n",
      "0 1952-11-01   86.2\n",
      "1 1953-02-01   90.7\n",
      "2 1953-08-01   80.8\n",
      "3 1953-11-01   80.7\n",
      "4 1954-02-01   82.0\n"
     ]
    }
   ],
   "source": [
    "# =============================================================================\n",
    "# UMCSENT DATA \n",
    "# =============================================================================\n",
    "umcsent_data = fetch_fred_data('UMCSENT')\n",
    "\n",
    "print(f\"\\nUMCSENT Data Range: {umcsent_data['date'].min()} to {umcsent_data['date'].max()}\")\n",
    "print(f\"Latest UMCSENT Value: {umcsent_data['value'].iloc[-1]}\")\n",
    "print(f\"Total UMCSENT Observations: {len(umcsent_data)}\")\n",
    "print(umcsent_data.head())\n",
    "\n"
   ]
  },
  {
   "cell_type": "code",
   "execution_count": 5,
   "id": "e92f4b09",
   "metadata": {},
   "outputs": [
    {
     "name": "stdout",
     "output_type": "stream",
     "text": [
      "Successfully fetched 172 observations for FMNHSHPSIUS\n",
      "\n",
      "HPSI Data Range: 2011-03-01 00:00:00 to 2025-06-01 00:00:00\n",
      "Latest HPSI Value: 69.8\n",
      "Total HPSI Observations: 172\n",
      "        date  value\n",
      "0 2011-03-01   60.0\n",
      "1 2011-04-01   62.5\n",
      "2 2011-05-01   60.3\n",
      "3 2011-06-01   61.0\n",
      "4 2011-07-01   60.0\n"
     ]
    }
   ],
   "source": [
    "# =============================================================================\n",
    "# HOME PURCHASE SENTIMENT INDEX (HPSI)\n",
    "# =============================================================================\n",
    "hpsi_data = fetch_fred_data('FMNHSHPSIUS')\n",
    "\n",
    "print(f\"\\nHPSI Data Range: {hpsi_data['date'].min()} to {hpsi_data['date'].max()}\")\n",
    "print(f\"Latest HPSI Value: {hpsi_data['value'].iloc[-1]}\")\n",
    "print(f\"Total HPSI Observations: {len(hpsi_data)}\")\n",
    "print(hpsi_data.head())\n",
    "\n"
   ]
  },
  {
   "cell_type": "code",
   "execution_count": 6,
   "id": "24ede87a",
   "metadata": {},
   "outputs": [
    {
     "name": "stdout",
     "output_type": "stream",
     "text": [
      "Successfully fetched 412 observations for HPIPONM226S\n",
      "\n",
      "FHFA House Price Index Data Range: 1991-01-01 00:00:00 to 2025-04-01 00:00:00\n",
      "Latest FHFA House Price Index Value: 434.93\n",
      "Total FHFA House Price Index Observations: 412\n",
      "        date   value\n",
      "0 1991-01-01  100.00\n",
      "1 1991-02-01  100.39\n",
      "2 1991-03-01  100.46\n",
      "3 1991-04-01  100.29\n",
      "4 1991-05-01  100.34\n"
     ]
    }
   ],
   "source": [
    "# =============================================================================\n",
    "# FHFA HOUSE PRICE INDEX (Seasonally Adjusted)\n",
    "# =============================================================================\n",
    "hpi_data = fetch_fred_data('HPIPONM226S')\n",
    "\n",
    "print(f\"\\nFHFA House Price Index Data Range: {hpi_data['date'].min()} to {hpi_data['date'].max()}\")\n",
    "print(f\"Latest FHFA House Price Index Value: {hpi_data['value'].iloc[-1]}\")\n",
    "print(f\"Total FHFA House Price Index Observations: {len(hpi_data)}\")\n",
    "print(hpi_data.head())\n"
   ]
  },
  {
   "cell_type": "code",
   "execution_count": 7,
   "id": "76a695cf",
   "metadata": {},
   "outputs": [
    {
     "name": "stdout",
     "output_type": "stream",
     "text": [
      "Successfully fetched 852 observations for FEDFUNDS\n",
      "\n",
      "Federal Funds Rate Data Range: 1954-07-01 00:00:00 to 2025-06-01 00:00:00\n",
      "Latest Federal Funds Rate Value: 4.33\n",
      "Total Federal Funds Rate Observations: 852\n",
      "        date  value\n",
      "0 1954-07-01   0.80\n",
      "1 1954-08-01   1.22\n",
      "2 1954-09-01   1.07\n",
      "3 1954-10-01   0.85\n",
      "4 1954-11-01   0.83\n"
     ]
    }
   ],
   "source": [
    "# =============================================================================\n",
    "# FEDERAL FUNDS RATE\n",
    "# =============================================================================\n",
    "fed_rate_data = fetch_fred_data('FEDFUNDS')\n",
    "\n",
    "print(f\"\\nFederal Funds Rate Data Range: {fed_rate_data['date'].min()} to {fed_rate_data['date'].max()}\")\n",
    "print(f\"Latest Federal Funds Rate Value: {fed_rate_data['value'].iloc[-1]}\")\n",
    "print(f\"Total Federal Funds Rate Observations: {len(fed_rate_data)}\")\n",
    "print(fed_rate_data.head())"
   ]
  },
  {
   "cell_type": "markdown",
   "id": "9ea30a46",
   "metadata": {},
   "source": [
    "## Fannie Mae Home Price Index\n",
    "\n",
    "https://www.fanniemae.com/data-and-insights/surveys-indices/fannie-mae-home-price-index\n",
    "\n",
    "*CSV Downloaded directly from url*\n"
   ]
  },
  {
   "cell_type": "markdown",
   "id": "283fc090",
   "metadata": {},
   "source": [
    "#### How It's Calculated (FHFA Method)\n",
    "\n",
    "\n",
    "Find Repeat Sales: Identify properties that sold multiple times (e.g., same house sold in 2020 and 2024)\n",
    "Calculate Price Changes: For each repeat sale, calculate the percentage change between sales\n",
    "Statistical Modeling: Use regression analysis to estimate price trends while controlling for:\n",
    "\n",
    "Time between sales\n",
    "Property characteristics that might have changed\n",
    "Market conditions\n",
    "\n",
    "\n",
    "Index Construction: Combine all these individual price changes into a single index number\n",
    "\n",
    "The Baseline System\n",
    "FHFA HPI: Uses 1980 Q1 = 100 as the baseline\n",
    "\n",
    "If today's index = 400, houses cost 4x what they did in 1980 Q1\n",
    "Your value of ~34 would mean houses cost about 1/3 of 1980 prices (so this is likely very early 1980s data)"
   ]
  },
  {
   "cell_type": "code",
   "execution_count": 8,
   "id": "362870ca",
   "metadata": {},
   "outputs": [
    {
     "name": "stdout",
     "output_type": "stream",
     "text": [
      "   year  quarter     hpi_sa  rate_of_change\n",
      "0  1975        1  34.156530             NaN\n",
      "1  1975        2  34.203690          0.0014\n",
      "2  1975        3  34.794446          0.0173\n",
      "3  1975        4  35.379836          0.0168\n",
      "4  1976        1  35.784635          0.0114\n",
      "     year  quarter      hpi_sa  rate_of_change\n",
      "196  2024        1  329.777146          0.0146\n",
      "197  2024        2  333.403526          0.0110\n",
      "198  2024        3  336.921984          0.0106\n",
      "199  2024        4  342.397684          0.0163\n",
      "200  2025        1  347.123331          0.0138\n"
     ]
    }
   ],
   "source": [
    "#  open the fannie mae home price index csv file\n",
    "\n",
    "df = pd.read_csv(\"data_sources/fannie-mae-hpi-sa.csv\")\n",
    "# Display the first few rows of the dataframe\n",
    "print(df.head())\n",
    "print(df.tail())"
   ]
  },
  {
   "cell_type": "code",
   "execution_count": null,
   "id": "ab120fd5",
   "metadata": {},
   "outputs": [],
   "source": []
  }
 ],
 "metadata": {
  "kernelspec": {
   "display_name": "mads_env",
   "language": "python",
   "name": "python3"
  },
  "language_info": {
   "codemirror_mode": {
    "name": "ipython",
    "version": 3
   },
   "file_extension": ".py",
   "mimetype": "text/x-python",
   "name": "python",
   "nbconvert_exporter": "python",
   "pygments_lexer": "ipython3",
   "version": "3.10.13"
  }
 },
 "nbformat": 4,
 "nbformat_minor": 5
}
