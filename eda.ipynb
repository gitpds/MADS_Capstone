{
 "cells": [
  {
   "cell_type": "code",
   "execution_count": 1,
   "id": "8d788d17",
   "metadata": {},
   "outputs": [],
   "source": [
    "# EDA Workbook"
   ]
  },
  {
   "cell_type": "code",
   "execution_count": 2,
   "id": "bc7c4e3c",
   "metadata": {},
   "outputs": [],
   "source": [
    "# Data Sources\n"
   ]
  },
  {
   "cell_type": "code",
   "execution_count": 3,
   "id": "ebf2f30f",
   "metadata": {},
   "outputs": [],
   "source": [
    "#uMich consumer Data"
   ]
  },
  {
   "cell_type": "markdown",
   "id": "51975b1b",
   "metadata": {},
   "source": [
    "### Home Purchase Sentiment Index\n",
    "\n",
    "https://fredblog.stlouisfed.org/2025/05/the-home-purchase-sentiment-index/"
   ]
  },
  {
   "cell_type": "markdown",
   "id": "90fa2cc9",
   "metadata": {},
   "source": []
  }
 ],
 "metadata": {
  "kernelspec": {
   "display_name": "mads_env",
   "language": "python",
   "name": "python3"
  },
  "language_info": {
   "codemirror_mode": {
    "name": "ipython",
    "version": 3
   },
   "file_extension": ".py",
   "mimetype": "text/x-python",
   "name": "python",
   "nbconvert_exporter": "python",
   "pygments_lexer": "ipython3",
   "version": "3.10.13"
  }
 },
 "nbformat": 4,
 "nbformat_minor": 5
}
