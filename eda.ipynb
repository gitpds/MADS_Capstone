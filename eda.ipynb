{
 "cells": [
  {
   "cell_type": "code",
   "execution_count": 1,
   "id": "8d788d17",
   "metadata": {},
   "outputs": [],
   "source": [
    "# EDA Workbook"
   ]
  },
  {
   "cell_type": "code",
   "execution_count": null,
   "id": "400f5afa",
   "metadata": {},
   "outputs": [],
   "source": [
    "# FRED API Key"
   ]
  },
  {
   "cell_type": "code",
   "id": "lqq1mscpmn",
   "source": "import os\nfrom dotenv import load_dotenv\n\n# Load environment variables from .env file\nload_dotenv()\n\n# Get FRED API key\nFRED_API_KEY = os.getenv('FRED_API_KEY')\n\n# Verify the key is loaded (optional)\nif FRED_API_KEY:\n    print(\"FRED API key loaded successfully\")\nelse:\n    print(\"FRED API key not found in .env file\")",
   "metadata": {},
   "outputs": []
  },
  {
   "cell_type": "code",
   "execution_count": 2,
   "id": "bc7c4e3c",
   "metadata": {},
   "outputs": [],
   "source": [
    "# Data Sources\n"
   ]
  },
  {
   "cell_type": "code",
   "execution_count": 3,
   "id": "ebf2f30f",
   "metadata": {},
   "outputs": [],
   "source": [
    "#uMich consumer Data"
   ]
  },
  {
   "cell_type": "markdown",
   "id": "51975b1b",
   "metadata": {},
   "source": [
    "### Home Purchase Sentiment Index\n",
    "\n",
    "https://fredblog.stlouisfed.org/2025/05/the-home-purchase-sentiment-index/"
   ]
  },
  {
   "cell_type": "code",
   "id": "x2gb98rf4em",
   "source": "# Install fredapi if not already installed\n!pip install fredapi -q",
   "metadata": {},
   "outputs": []
  },
  {
   "cell_type": "code",
   "id": "hg6730x55xg",
   "source": "import pandas as pd\nfrom fredapi import Fred\nimport matplotlib.pyplot as plt\n\n# Initialize FRED API connection\nfred = Fred(api_key=FRED_API_KEY)\n\n# Since HPSI might not be directly available in FRED, let's look for related housing indicators\n# that are mentioned in the blog post, such as consumer sentiment and housing market indicators\n\n# Create a dataframe with multiple related series\nhousing_series = {\n    'UMCSENT': 'University of Michigan: Consumer Sentiment',\n    'HOUST': 'Housing Starts: Total',\n    'MORTGAGE30US': '30-Year Fixed Rate Mortgage Average',\n    'CSUSHPISA': 'S&P/Case-Shiller U.S. National Home Price Index',\n    'RRVRUSQ156N': 'Rental Vacancy Rate',\n    'NHSUSSPT': 'New One Family Houses Sold'\n}\n\n# Fetch data for each series\nprint(\"Fetching housing-related data from FRED...\")\ndata_dict = {}\n\nfor series_id, description in housing_series.items():\n    try:\n        data = fred.get_series(series_id, observation_start='2011-03-01')\n        data_dict[series_id] = data\n        print(f\"✓ Fetched {series_id}: {description}\")\n    except Exception as e:\n        print(f\"✗ Error fetching {series_id}: {e}\")\n\n# Create a combined dataframe\ndf_housing = pd.DataFrame(data_dict)\ndf_housing.index.name = 'date'\n\n# Display info about the dataframe\nprint(f\"\\nDataframe created with shape: {df_housing.shape}\")\nprint(f\"Date range: {df_housing.index.min()} to {df_housing.index.max()}\")\nprint(f\"\\nColumns: {list(df_housing.columns)}\")\nprint(f\"\\nFirst few rows:\")\ndf_housing.head()",
   "metadata": {},
   "outputs": []
  },
  {
   "cell_type": "markdown",
   "id": "9u2qlhxqevj",
   "source": "### Note on Home Purchase Sentiment Index (HPSI)\n\nThe Fannie Mae Home Purchase Sentiment Index (HPSI) is not directly available through FRED API. The HPSI is proprietary data from Fannie Mae's National Housing Survey. \n\nInstead, I've created a dataframe with related housing market indicators that are available through FRED:\n- **UMCSENT**: University of Michigan Consumer Sentiment (similar sentiment measure)\n- **HOUST**: Housing Starts (housing market activity)\n- **MORTGAGE30US**: 30-Year Mortgage Rates (key factor in home purchasing decisions)\n- **CSUSHPISA**: Case-Shiller Home Price Index (home price trends)\n- **RRVRUSQ156N**: Rental Vacancy Rate (housing market conditions)\n- **NHSUSSPT**: New Home Sales (housing demand indicator)",
   "metadata": {}
  },
  {
   "cell_type": "markdown",
   "id": "90fa2cc9",
   "metadata": {},
   "source": "import pandas as pd\nfrom fredapi import Fred\nimport matplotlib.pyplot as plt\n\n# Initialize FRED API connection\nfred = Fred(api_key=FRED_API_KEY)\n\n# Search for Home Purchase Sentiment Index series\nprint(\"Searching for Home Purchase Sentiment Index series...\")\nsearch_results = fred.search('Home Purchase Sentiment Index', limit=10)\nprint(search_results[['title', 'units', 'frequency']])",
   "outputs": []
  },
  {
   "cell_type": "markdown",
   "id": "4qmh8gcc4er",
   "source": "### Note on Home Purchase Sentiment Index (HPSI)\n\nThe Fannie Mae Home Purchase Sentiment Index (HPSI) is not directly available through FRED API. The HPSI is proprietary data from Fannie Mae's National Housing Survey. \n\nInstead, I've created a dataframe with related housing market indicators that are available through FRED:\n- **UMCSENT**: University of Michigan Consumer Sentiment (similar sentiment measure)\n- **HOUST**: Housing Starts (housing market activity)\n- **MORTGAGE30US**: 30-Year Mortgage Rates (key factor in home purchasing decisions)\n- **CSUSHPISA**: Case-Shiller Home Price Index (home price trends)\n- **RRVRUSQ156N**: Rental Vacancy Rate (housing market conditions)\n- **NHSUSSPT**: New Home Sales (housing demand indicator)\n\nThese indicators together provide insights into housing market sentiment and conditions similar to what HPSI tracks.",
   "metadata": {}
  },
  {
   "cell_type": "code",
   "id": "zqvhybwgv49",
   "source": "# Since different series have different frequencies, let's resample to monthly frequency\n# and forward-fill missing values where appropriate\ndf_monthly = df_housing.resample('M').mean()\n\n# Forward fill for series that don't change frequently\ndf_monthly['RRVRUSQ156N'] = df_monthly['RRVRUSQ156N'].ffill()  # Quarterly data\n\nprint(f\"Monthly resampled dataframe shape: {df_monthly.shape}\")\nprint(f\"\\nLast 5 rows of the dataframe:\")\ndf_monthly.tail()",
   "metadata": {},
   "outputs": []
  },
  {
   "cell_type": "code",
   "id": "bamjkcq73gb",
   "source": "# Check data availability and missing values\nprint(\"\\nData availability summary:\")\nprint(df_housing.info())\nprint(\"\\nMissing values by column:\")\nprint(df_housing.isnull().sum())",
   "metadata": {},
   "outputs": []
  },
  {
   "cell_type": "code",
   "id": "n4awwft2ru",
   "source": "# Since HPSI might not be directly available in FRED, let's look for related housing indicators\n# that are mentioned in the blog post, such as consumer sentiment and housing market indicators\n\n# Create a dataframe with multiple related series\nhousing_series = {\n    'UMCSENT': 'University of Michigan: Consumer Sentiment',\n    'HOUST': 'Housing Starts: Total',\n    'MORTGAGE30US': '30-Year Fixed Rate Mortgage Average',\n    'CSUSHPISA': 'S&P/Case-Shiller U.S. National Home Price Index',\n    'RRVRUSQ156N': 'Rental Vacancy Rate',\n    'NHSUSSPT': 'New One Family Houses Sold'\n}\n\n# Fetch data for each series\nprint(\"Fetching housing-related data from FRED...\")\ndata_dict = {}\n\nfor series_id, description in housing_series.items():\n    try:\n        data = fred.get_series(series_id, observation_start='2011-03-01')\n        data_dict[series_id] = data\n        print(f\"✓ Fetched {series_id}: {description}\")\n    except Exception as e:\n        print(f\"✗ Error fetching {series_id}: {e}\")\n\n# Create a combined dataframe\ndf_housing = pd.DataFrame(data_dict)\ndf_housing.index.name = 'date'\n\n# Display info about the dataframe\nprint(f\"\\nDataframe created with shape: {df_housing.shape}\")\nprint(f\"Date range: {df_housing.index.min()} to {df_housing.index.max()}\")\nprint(f\"\\nColumns: {list(df_housing.columns)}\")\nprint(f\"\\nFirst few rows:\")\ndf_housing.head()",
   "metadata": {},
   "outputs": []
  },
  {
   "cell_type": "code",
   "id": "kfzm0v008on",
   "source": "# Let's also search for Fannie Mae specific series\nprint(\"\\nSearching for Fannie Mae series...\")\nfannie_search = fred.search('Fannie Mae', limit=20)\nprint(fannie_search[['id', 'title', 'units', 'frequency']].head(10))",
   "metadata": {},
   "outputs": []
  },
  {
   "cell_type": "code",
   "id": "2ou3l698jvq",
   "source": "import pandas as pd\nfrom fredapi import Fred\nimport matplotlib.pyplot as plt\n\n# Initialize FRED API connection\nfred = Fred(api_key=FRED_API_KEY)\n\n# The Home Purchase Sentiment Index from Fannie Mae doesn't have a direct FRED series\n# Let's search for related housing sentiment indicators\nprint(\"Searching for housing sentiment related series...\")\nsearch_results = fred.search('housing sentiment', limit=20)\nprint(\"\\nTop results:\")\nprint(search_results[['id', 'title', 'units', 'frequency']].head(10))",
   "metadata": {},
   "outputs": []
  },
  {
   "cell_type": "code",
   "id": "cearcjut94",
   "source": "# Import the Fannie Mae HPI data from the Excel file\nimport pandas as pd\n\n# Read the Excel file\nfannie_mae_hpi = pd.read_excel('data_sources/fannie-mae-hpi-sa.xlsx')\n\n# Display basic information about the dataframe\nprint(\"Fannie Mae HPI Data:\")\nprint(f\"Shape: {fannie_mae_hpi.shape}\")\nprint(f\"\\nColumn names:\")\nprint(fannie_mae_hpi.columns.tolist())\nprint(f\"\\nFirst 5 rows:\")\nfannie_mae_hpi.head()",
   "metadata": {},
   "outputs": []
  }
 ],
 "metadata": {
  "kernelspec": {
   "display_name": "mads_env",
   "language": "python",
   "name": "python3"
  },
  "language_info": {
   "codemirror_mode": {
    "name": "ipython",
    "version": 3
   },
   "file_extension": ".py",
   "mimetype": "text/x-python",
   "name": "python",
   "nbconvert_exporter": "python",
   "pygments_lexer": "ipython3",
   "version": "3.10.13"
  }
 },
 "nbformat": 4,
 "nbformat_minor": 5
}